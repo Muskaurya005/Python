{
  "nbformat": 4,
  "nbformat_minor": 0,
  "metadata": {
    "colab": {
      "provenance": [],
      "authorship_tag": "ABX9TyOJLOCw0K/QjuDXY97+FQwr",
      "include_colab_link": true
    },
    "kernelspec": {
      "name": "python3",
      "display_name": "Python 3"
    },
    "language_info": {
      "name": "python"
    }
  },
  "cells": [
    {
      "cell_type": "markdown",
      "metadata": {
        "id": "view-in-github",
        "colab_type": "text"
      },
      "source": [
        "<a href=\"https://colab.research.google.com/github/Muskaurya005/Python/blob/main/Lecture_10_(13_07_2024).ipynb\" target=\"_parent\"><img src=\"https://colab.research.google.com/assets/colab-badge.svg\" alt=\"Open In Colab\"/></a>"
      ]
    },
    {
      "cell_type": "code",
      "source": [
        "#TAKE INPUT FROM USER AND MAKE PASSWORD\n",
        "fname=input(\"Enter Your name:\\n \")\n",
        "fname=fname.lower()\n",
        "a=fname[0:4]\n",
        "dob=input(\" DOB-(DDMMYYYY):\\n\")\n",
        "b=dob[0:4]\n",
        "\n",
        "password=a+b\n",
        "print(\"password:\",password)"
      ],
      "metadata": {
        "colab": {
          "base_uri": "https://localhost:8080/"
        },
        "id": "JAk4vverwb7_",
        "outputId": "a6c0e169-2409-4460-d7ed-a241c58b2163"
      },
      "execution_count": null,
      "outputs": [
        {
          "output_type": "stream",
          "name": "stdout",
          "text": [
            "Enter Your name:\n",
            " Mussu\n",
            " DOB-(DDMMYYYY):\n",
            "07082019\n",
            "password: muss0708\n"
          ]
        }
      ]
    },
    {
      "cell_type": "code",
      "source": [
        "#TAKE INPUT FROM USER AND CHECK FULL NAME AND EMAIL ID.\n",
        "\n",
        "\n",
        "fname=input(\"Enter your First name: \\n\" );\n",
        "mname=input(\"Enter your Middle name: \\n\" );\n",
        "lname=input(\"Enter your Last name:\\n\");\n",
        "fullname=\" \".join([fname, mname ,lname]);\n",
        "print(fullname);\n",
        "Email=input(\"Enter your Email:\\n\");\n",
        "\n",
        "if Email.endswith(\"com\"):\n",
        " print(\"valid\")\n",
        "\n",
        "elif Email.endswith(\"edu\"):\n",
        " print(\"valid\")\n",
        "\n",
        "elif Email.endswith(\"org\"):\n",
        " print(\"valid\")\n",
        "\n",
        "else:\n",
        " print(\"invaild\")"
      ],
      "metadata": {
        "colab": {
          "base_uri": "https://localhost:8080/"
        },
        "id": "vLTGfEf801d_",
        "outputId": "755764a6-6da2-439c-c1d3-8737fab5ee59"
      },
      "execution_count": null,
      "outputs": [
        {
          "output_type": "stream",
          "name": "stdout",
          "text": [
            "Enter your First name: \n",
            "A\n",
            "Enter your Middle name: \n",
            "B\n",
            "Enter your Last name:\n",
            "C\n",
            "A B C\n",
            "Enter your Email:\n",
            "Abc@gmail.com\n",
            "valid\n"
          ]
        }
      ]
    }
  ]
}