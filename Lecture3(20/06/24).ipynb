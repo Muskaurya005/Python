{
  "nbformat": 4,
  "nbformat_minor": 0,
  "metadata": {
    "colab": {
      "provenance": [],
      "authorship_tag": "ABX9TyNeeI0fvRbN7FQhd09nIc7t",
      "include_colab_link": true
    },
    "kernelspec": {
      "name": "python3",
      "display_name": "Python 3"
    },
    "language_info": {
      "name": "python"
    }
  },
  "cells": [
    {
      "cell_type": "markdown",
      "metadata": {
        "id": "view-in-github",
        "colab_type": "text"
      },
      "source": [
        "<a href=\"https://colab.research.google.com/github/Muskaurya005/Python/blob/main/Lecture3(20/06/24).ipynb\" target=\"_parent\"><img src=\"https://colab.research.google.com/assets/colab-badge.svg\" alt=\"Open In Colab\"/></a>"
      ]
    },
    {
      "cell_type": "code",
      "execution_count": null,
      "metadata": {
        "colab": {
          "base_uri": "https://localhost:8080/"
        },
        "id": "_5UAkDFSaVrR",
        "outputId": "abca660d-d66e-4f20-cd58-2fe550fc3e42"
      },
      "outputs": [
        {
          "output_type": "stream",
          "name": "stdout",
          "text": [
            " hello,\n",
            "How are you? \n"
          ]
        }
      ],
      "source": [
        "print(\"\"\" hello,\n",
        "How are you? \"\"\");"
      ]
    },
    {
      "cell_type": "code",
      "source": [
        "age=18\n",
        "if(age>=18):\n",
        "   print(\"eligible\")\n",
        "else:\n",
        "   print(\"not\")\n",
        "print(\"apply later\")"
      ],
      "metadata": {
        "colab": {
          "base_uri": "https://localhost:8080/"
        },
        "id": "6RKA_k5ikvP1",
        "outputId": "59db4b4c-8bff-4d5d-a02c-7c12233b650c"
      },
      "execution_count": null,
      "outputs": [
        {
          "output_type": "stream",
          "name": "stdout",
          "text": [
            "eligible\n",
            "apply later\n"
          ]
        }
      ]
    },
    {
      "cell_type": "code",
      "source": [
        "a=int(input(\"enter number1: \"))\n",
        "b=int(input(\"enter number 2: \"))\n",
        "if(a>b):\n",
        "   print(\"a is greater \")\n",
        "elif (b>a):\n",
        "   print(\"b is greater\")\n",
        "else:\n",
        "    print(\"both are equal\")"
      ],
      "metadata": {
        "colab": {
          "base_uri": "https://localhost:8080/"
        },
        "id": "za-xfmDimLWB",
        "outputId": "8bbff58d-7768-4751-b36f-ecf9797eca03"
      },
      "execution_count": null,
      "outputs": [
        {
          "output_type": "stream",
          "name": "stdout",
          "text": [
            "enter number1: 6\n",
            "enter number 2: 6\n",
            "both are equal\n"
          ]
        }
      ]
    },
    {
      "cell_type": "code",
      "source": [
        "a=10\n",
        "b='abc'\n",
        "if(a:=b):\n",
        "   print(\"success\")\n",
        "else:\n",
        "    print(\"fail\")"
      ],
      "metadata": {
        "colab": {
          "base_uri": "https://localhost:8080/"
        },
        "id": "szxZFRndpGAD",
        "outputId": "c18a61a6-c1cb-4845-c587-6dbc7ff91d17"
      },
      "execution_count": null,
      "outputs": [
        {
          "output_type": "stream",
          "name": "stdout",
          "text": [
            "success\n"
          ]
        }
      ]
    },
    {
      "cell_type": "code",
      "source": [
        "a=int(input(\"s1: \"))\n",
        "b=int(input(\"s2: \"))\n",
        "c=int(input(\"s3: \"))\n",
        "d=int(input(\"s4: \"))\n",
        "e=int(input(\"s5: \"))\n",
        "percentage=(a+b+c+d+e)/5\n",
        "print(\"percentage\",percentage)\n",
        "if(percentage<35):\n",
        "  print(\"fail\")\n",
        "elif(percentage>=35) & (percentage<40):\n",
        "  print(\"pass\")\n",
        "elif(percentage>=40) & (percentage<60):\n",
        "   print(\"second class\")\n",
        "elif(percentage>=60) & (percentage<75):\n",
        "   print(\"first class\")\n",
        "else:\n",
        "   print(\"Distinction\")"
      ],
      "metadata": {
        "colab": {
          "base_uri": "https://localhost:8080/"
        },
        "id": "kva8cOCxq_9-",
        "outputId": "1a6d2170-6307-49af-ae34-79b2b838a851"
      },
      "execution_count": null,
      "outputs": [
        {
          "output_type": "stream",
          "name": "stdout",
          "text": [
            "s1: 78\n",
            "s2: 88\n",
            "s3: 89\n",
            "s4: 88\n",
            "s5: 99\n",
            "percentage 88.4\n",
            "Distinction\n"
          ]
        }
      ]
    }
  ]
}