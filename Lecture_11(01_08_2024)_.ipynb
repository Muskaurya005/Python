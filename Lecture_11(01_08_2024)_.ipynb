{
  "nbformat": 4,
  "nbformat_minor": 0,
  "metadata": {
    "colab": {
      "provenance": [],
      "authorship_tag": "ABX9TyMT8dUBYds1GUsPp5u37uwA",
      "include_colab_link": true
    },
    "kernelspec": {
      "name": "python3",
      "display_name": "Python 3"
    },
    "language_info": {
      "name": "python"
    }
  },
  "cells": [
    {
      "cell_type": "markdown",
      "metadata": {
        "id": "view-in-github",
        "colab_type": "text"
      },
      "source": [
        "<a href=\"https://colab.research.google.com/github/Muskaurya005/Python/blob/main/Lecture_11(01_08_2024)_.ipynb\" target=\"_parent\"><img src=\"https://colab.research.google.com/assets/colab-badge.svg\" alt=\"Open In Colab\"/></a>"
      ]
    },
    {
      "cell_type": "code",
      "execution_count": null,
      "metadata": {
        "colab": {
          "base_uri": "https://localhost:8080/"
        },
        "id": "ICehrKQ22U1d",
        "outputId": "9d1149a3-32f5-4a69-ec21-eaebaf3c9378"
      },
      "outputs": [
        {
          "output_type": "stream",
          "name": "stdout",
          "text": [
            "G\n",
            "o\n",
            " \n",
            "S\n",
            "p\n",
            "o\n",
            "t\n",
            " \n",
            "G\n",
            "o\n"
          ]
        }
      ],
      "source": [
        "for achar in \"Go Spot Go\":\n",
        " print(achar)"
      ]
    },
    {
      "cell_type": "code",
      "source": [
        "s = \"python rocks\"\n",
        "for ch in s:\n",
        " print(\"HELLO\")"
      ],
      "metadata": {
        "colab": {
          "base_uri": "https://localhost:8080/"
        },
        "id": "vXTQFWAB232n",
        "outputId": "2df49516-d74f-4574-fdd1-709efad35407"
      },
      "execution_count": null,
      "outputs": [
        {
          "output_type": "stream",
          "name": "stdout",
          "text": [
            "HELLO\n",
            "HELLO\n",
            "HELLO\n",
            "HELLO\n",
            "HELLO\n",
            "HELLO\n",
            "HELLO\n",
            "HELLO\n",
            "HELLO\n",
            "HELLO\n",
            "HELLO\n",
            "HELLO\n"
          ]
        }
      ]
    },
    {
      "cell_type": "code",
      "source": [
        "s = \"python rocks\"\n",
        "for ch in s[3:8]:\n",
        " print(\"HELLO\")"
      ],
      "metadata": {
        "colab": {
          "base_uri": "https://localhost:8080/"
        },
        "id": "8Xa0kJw73BXG",
        "outputId": "32573465-3161-43b1-8f1f-f31cade39405"
      },
      "execution_count": null,
      "outputs": [
        {
          "output_type": "stream",
          "name": "stdout",
          "text": [
            "HELLO\n",
            "HELLO\n",
            "HELLO\n",
            "HELLO\n",
            "HELLO\n"
          ]
        }
      ]
    },
    {
      "cell_type": "code",
      "source": [
        "s = 'HelloWorld'\n",
        "print(s[:])\n",
        "print(s[::-1])"
      ],
      "metadata": {
        "colab": {
          "base_uri": "https://localhost:8080/"
        },
        "id": "ur_jZOmr3qbt",
        "outputId": "cd5836d9-a7d1-4b07-d95c-b5a75e6207a3"
      },
      "execution_count": null,
      "outputs": [
        {
          "output_type": "stream",
          "name": "stdout",
          "text": [
            "HelloWorld\n",
            "dlroWolleH\n"
          ]
        }
      ]
    },
    {
      "cell_type": "code",
      "source": [
        "s='python rocks'\n",
        "print(s[::-1])"
      ],
      "metadata": {
        "colab": {
          "base_uri": "https://localhost:8080/"
        },
        "id": "LoFKK4TL3-vd",
        "outputId": "8875268c-6f3a-4b71-c4f5-7bf35778cecc"
      },
      "execution_count": null,
      "outputs": [
        {
          "output_type": "stream",
          "name": "stdout",
          "text": [
            "skcor nohtyp\n"
          ]
        }
      ]
    },
    {
      "cell_type": "code",
      "source": [
        "s=\"Hello World\"\n",
        "print(\"J\"+s[1:6]+\"M\"+s[7:])"
      ],
      "metadata": {
        "colab": {
          "base_uri": "https://localhost:8080/"
        },
        "id": "bAeblTty42Ts",
        "outputId": "3cca835f-5181-4b04-f4b6-ec472e701178"
      },
      "execution_count": null,
      "outputs": [
        {
          "output_type": "stream",
          "name": "stdout",
          "text": [
            "Jello Morld\n"
          ]
        }
      ]
    },
    {
      "cell_type": "code",
      "source": [
        "s=\"Hello World\"\n",
        "print(s[::2])"
      ],
      "metadata": {
        "colab": {
          "base_uri": "https://localhost:8080/"
        },
        "id": "eBg3HFT95NoH",
        "outputId": "86bcf773-69ba-474d-aced-0f72e76d2d7d"
      },
      "execution_count": null,
      "outputs": [
        {
          "output_type": "stream",
          "name": "stdout",
          "text": [
            "HloWrd\n"
          ]
        }
      ]
    },
    {
      "cell_type": "code",
      "source": [
        "s=\"Hello World\"\n",
        "print(s[1::2])"
      ],
      "metadata": {
        "colab": {
          "base_uri": "https://localhost:8080/"
        },
        "id": "LGVavnVG5nRF",
        "outputId": "27e7bc36-f2db-474a-d6c9-420c8ea7ba8d"
      },
      "execution_count": null,
      "outputs": [
        {
          "output_type": "stream",
          "name": "stdout",
          "text": [
            "el ol\n"
          ]
        }
      ]
    },
    {
      "cell_type": "code",
      "source": [
        "s=\"Hello World\"\n",
        "print(s[:7:2])"
      ],
      "metadata": {
        "colab": {
          "base_uri": "https://localhost:8080/"
        },
        "id": "xKxNA8mZ51an",
        "outputId": "a9e00887-1e98-44fa-8032-0e1df5b622da"
      },
      "execution_count": null,
      "outputs": [
        {
          "output_type": "stream",
          "name": "stdout",
          "text": [
            "HloW\n"
          ]
        }
      ]
    },
    {
      "cell_type": "code",
      "source": [
        "s=\"Hello World\"\n",
        "print(s[-1:])"
      ],
      "metadata": {
        "colab": {
          "base_uri": "https://localhost:8080/"
        },
        "id": "2TW3x9Fp6SI8",
        "outputId": "d581746d-fab3-4d25-e671-4401c7f5d48e"
      },
      "execution_count": null,
      "outputs": [
        {
          "output_type": "stream",
          "name": "stdout",
          "text": [
            "d\n"
          ]
        }
      ]
    },
    {
      "cell_type": "code",
      "source": [
        "s=\"Hello World\"\n",
        "print(s[:-1])"
      ],
      "metadata": {
        "colab": {
          "base_uri": "https://localhost:8080/"
        },
        "id": "Mg8u1k5k6dmF",
        "outputId": "0c31cec4-35f1-4b5d-fd39-d1d76c8638e7"
      },
      "execution_count": null,
      "outputs": [
        {
          "output_type": "stream",
          "name": "stdout",
          "text": [
            "Hello Worl\n"
          ]
        }
      ]
    },
    {
      "cell_type": "code",
      "source": [
        "s=\"Hello World\"\n",
        "print(s[-1])"
      ],
      "metadata": {
        "colab": {
          "base_uri": "https://localhost:8080/"
        },
        "id": "-VrXN9-w6tX2",
        "outputId": "0c36e71b-06b8-443d-bcef-725f4002628a"
      },
      "execution_count": null,
      "outputs": [
        {
          "output_type": "stream",
          "name": "stdout",
          "text": [
            "d\n"
          ]
        }
      ]
    },
    {
      "cell_type": "code",
      "source": [
        "s=\"Hello World\"\n",
        "print(s[:1:-1])"
      ],
      "metadata": {
        "colab": {
          "base_uri": "https://localhost:8080/"
        },
        "id": "Gwwn9GAW7J3E",
        "outputId": "3d33aca5-1e88-48fe-a466-f24dd0e43720"
      },
      "execution_count": null,
      "outputs": [
        {
          "output_type": "stream",
          "name": "stdout",
          "text": [
            "dlroW oll\n"
          ]
        }
      ]
    },
    {
      "cell_type": "code",
      "source": [
        "L1=[10,20,30,40]\n",
        "print(L1[0])\n",
        "\n",
        "L1[0]=100\n",
        "print(L1[0])"
      ],
      "metadata": {
        "colab": {
          "base_uri": "https://localhost:8080/"
        },
        "id": "tMDl5UpF8L_T",
        "outputId": "69791a4a-1d5e-4813-bed3-672a370e1f86"
      },
      "execution_count": null,
      "outputs": [
        {
          "output_type": "stream",
          "name": "stdout",
          "text": [
            "10\n",
            "100\n"
          ]
        }
      ]
    },
    {
      "cell_type": "code",
      "source": [
        "S=\"Hello\"\n",
        "print(S[0])\n",
        "\n",
        "\n",
        "S1=\"T\"+S[1:]\n",
        "print(S1)"
      ],
      "metadata": {
        "colab": {
          "base_uri": "https://localhost:8080/"
        },
        "id": "OAZ_xRcN8wPK",
        "outputId": "b64c85b1-6545-447d-b427-40adb70c54aa"
      },
      "execution_count": null,
      "outputs": [
        {
          "output_type": "stream",
          "name": "stdout",
          "text": [
            "H\n",
            "Tello\n"
          ]
        }
      ]
    },
    {
      "cell_type": "code",
      "source": [
        "def search():\n",
        " for n in s:\n",
        "  if(n==\"j\"):\n",
        "     print(\"found\")\n",
        "  else:\n",
        "     print(\"Not found\")\n",
        "\n",
        "\n",
        "s=\"raheja college\"\n",
        "search()"
      ],
      "metadata": {
        "colab": {
          "base_uri": "https://localhost:8080/"
        },
        "id": "tiKaqJqr9txz",
        "outputId": "425fa87a-9b7d-4aad-d9c4-9b10778299ea"
      },
      "execution_count": null,
      "outputs": [
        {
          "output_type": "stream",
          "name": "stdout",
          "text": [
            "Not found\n",
            "Not found\n",
            "Not found\n",
            "Not found\n",
            "found\n",
            "Not found\n",
            "Not found\n",
            "Not found\n",
            "Not found\n",
            "Not found\n",
            "Not found\n",
            "Not found\n",
            "Not found\n",
            "Not found\n"
          ]
        }
      ]
    },
    {
      "cell_type": "code",
      "source": [
        "def test() :\n",
        " count=0\n",
        " for alpha in s:\n",
        "     if alpha==\"e\":\n",
        "         count=count+1\n",
        " print(count)\n",
        "\n",
        "\n",
        "s=\"raheja college\"\n",
        "test()"
      ],
      "metadata": {
        "colab": {
          "base_uri": "https://localhost:8080/"
        },
        "id": "ZTVNCgPyC3gn",
        "outputId": "84b98d2e-e63c-46b0-df39-a861830d6777"
      },
      "execution_count": null,
      "outputs": [
        {
          "output_type": "stream",
          "name": "stdout",
          "text": [
            "3\n"
          ]
        }
      ]
    }
  ]
}