{
  "nbformat": 4,
  "nbformat_minor": 0,
  "metadata": {
    "colab": {
      "provenance": [],
      "authorship_tag": "ABX9TyNAc5tJzJB1o10EFBZpeCen",
      "include_colab_link": true
    },
    "kernelspec": {
      "name": "python3",
      "display_name": "Python 3"
    },
    "language_info": {
      "name": "python"
    }
  },
  "cells": [
    {
      "cell_type": "markdown",
      "metadata": {
        "id": "view-in-github",
        "colab_type": "text"
      },
      "source": [
        "<a href=\"https://colab.research.google.com/github/Muskaurya005/Python/blob/main/Lecture4(25_06_24).ipynb\" target=\"_parent\"><img src=\"https://colab.research.google.com/assets/colab-badge.svg\" alt=\"Open In Colab\"/></a>"
      ]
    },
    {
      "cell_type": "code",
      "execution_count": null,
      "metadata": {
        "colab": {
          "base_uri": "https://localhost:8080/"
        },
        "id": "SF6OLz0IPhNE",
        "outputId": "21b8caf8-7bc5-4d84-dff6-d8b1c5a5ad8a"
      },
      "outputs": [
        {
          "output_type": "execute_result",
          "data": {
            "text/plain": [
              "int"
            ]
          },
          "metadata": {},
          "execution_count": 23
        }
      ],
      "source": [
        "a='9'\n",
        "b=int(a)\n",
        "type(b)"
      ]
    },
    {
      "cell_type": "code",
      "source": [
        "a='10'\n",
        "b=20\n",
        "c=(a,b)\n",
        "print(c)\n",
        "type(c)"
      ],
      "metadata": {
        "colab": {
          "base_uri": "https://localhost:8080/"
        },
        "id": "c6DbpOVVP9v7",
        "outputId": "5023965e-c252-4e06-8dca-cc47114a1c5d"
      },
      "execution_count": null,
      "outputs": [
        {
          "output_type": "stream",
          "name": "stdout",
          "text": [
            "('10', 20)\n"
          ]
        },
        {
          "output_type": "execute_result",
          "data": {
            "text/plain": [
              "tuple"
            ]
          },
          "metadata": {},
          "execution_count": 18
        }
      ]
    },
    {
      "cell_type": "code",
      "source": [
        "10**3"
      ],
      "metadata": {
        "colab": {
          "base_uri": "https://localhost:8080/"
        },
        "id": "UcRTQpIWWGlq",
        "outputId": "df69180d-0f3a-467d-e33c-267c5651a4d8"
      },
      "execution_count": null,
      "outputs": [
        {
          "output_type": "execute_result",
          "data": {
            "text/plain": [
              "1000"
            ]
          },
          "metadata": {},
          "execution_count": 25
        }
      ]
    },
    {
      "cell_type": "code",
      "source": [
        "print('10'!=10)"
      ],
      "metadata": {
        "colab": {
          "base_uri": "https://localhost:8080/"
        },
        "id": "FZq1aS4qXpSw",
        "outputId": "dfb9e1bf-6aca-4aef-bab4-26278a5bc76d"
      },
      "execution_count": null,
      "outputs": [
        {
          "output_type": "stream",
          "name": "stdout",
          "text": [
            "True\n"
          ]
        }
      ]
    },
    {
      "cell_type": "code",
      "source": [
        "a=10.50\n",
        "b=int(a)\n",
        "type(b)\n",
        "print(b)"
      ],
      "metadata": {
        "colab": {
          "base_uri": "https://localhost:8080/"
        },
        "id": "Q4sucMTzQY99",
        "outputId": "32f55c0b-3e81-4aa1-f7d7-3575ee470b57"
      },
      "execution_count": null,
      "outputs": [
        {
          "output_type": "stream",
          "name": "stdout",
          "text": [
            "10\n"
          ]
        }
      ]
    },
    {
      "cell_type": "code",
      "source": [
        "a=10\n",
        "b=20\n",
        "list= [10,20,30,40,50]\n",
        "if (a in list):\n",
        "    print ('a is in given list')\n",
        "else:\n",
        "    print ('a is not in given list')\n",
        "if (b not in list):\n",
        "    print ('b is not given in list')\n",
        "else:\n",
        "     print ('b is given in list')"
      ],
      "metadata": {
        "colab": {
          "base_uri": "https://localhost:8080/"
        },
        "id": "98kp8w0XX8qQ",
        "outputId": "db49cb52-8ef2-4e85-c34d-745a7b8fb2ed"
      },
      "execution_count": null,
      "outputs": [
        {
          "output_type": "stream",
          "name": "stdout",
          "text": [
            "a is in given list\n",
            "b is given in list\n"
          ]
        }
      ]
    },
    {
      "cell_type": "code",
      "source": [
        "L1=[\"muskan\",10,20.50,\"test\"]\n",
        "print(L1[0][0::2])\n",
        "print(L1[3][::-1])\n",
        "print(L1[::-1])\n",
        "if(\"muskan\" in L1):\n",
        "   print(\"yes\")\n",
        "L1[1]=\"Hello\"\n",
        "print(L1)"
      ],
      "metadata": {
        "colab": {
          "base_uri": "https://localhost:8080/"
        },
        "id": "HvbBTwSFZ1PF",
        "outputId": "944c9172-f4aa-47f5-de03-e8cb63fa412d"
      },
      "execution_count": null,
      "outputs": [
        {
          "output_type": "stream",
          "name": "stdout",
          "text": [
            "msa\n",
            "tset\n",
            "['test', 20.5, 10, 'muskan']\n",
            "yes\n",
            "['muskan', 'Hello', 20.5, 'test']\n"
          ]
        }
      ]
    },
    {
      "cell_type": "code",
      "source": [
        "L1= [\"muskan\",10,20.50,\"test\"]\n",
        "a=input(\"Enter your name: \")\n",
        "L1[-1]=a\n",
        "print(L1)"
      ],
      "metadata": {
        "id": "EQvEjGZRfZh3",
        "colab": {
          "base_uri": "https://localhost:8080/"
        },
        "outputId": "b45d1bc5-d187-487d-9548-e7269c0352fc"
      },
      "execution_count": null,
      "outputs": [
        {
          "output_type": "stream",
          "name": "stdout",
          "text": [
            "enter your name: Mussu\n",
            "['muskan', 10, 20.5, 'Mussu']\n"
          ]
        }
      ]
    }
  ]
}