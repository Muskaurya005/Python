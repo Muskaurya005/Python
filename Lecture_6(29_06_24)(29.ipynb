{
  "nbformat": 4,
  "nbformat_minor": 0,
  "metadata": {
    "colab": {
      "provenance": [],
      "authorship_tag": "ABX9TyMvAX6OpAWF6D+7N3cBVpqC",
      "include_colab_link": true
    },
    "kernelspec": {
      "name": "python3",
      "display_name": "Python 3"
    },
    "language_info": {
      "name": "python"
    }
  },
  "cells": [
    {
      "cell_type": "markdown",
      "metadata": {
        "id": "view-in-github",
        "colab_type": "text"
      },
      "source": [
        "<a href=\"https://colab.research.google.com/github/Muskaurya005/Python/blob/main/Lecture_6(29_06_24)(29.ipynb\" target=\"_parent\"><img src=\"https://colab.research.google.com/assets/colab-badge.svg\" alt=\"Open In Colab\"/></a>"
      ]
    },
    {
      "cell_type": "code",
      "execution_count": null,
      "metadata": {
        "colab": {
          "base_uri": "https://localhost:8080/"
        },
        "id": "8JRj3m-EuUU0",
        "outputId": "b7a51114-92be-4e0c-af71-31d17eb5f5d6"
      },
      "outputs": [
        {
          "output_type": "stream",
          "name": "stdout",
          "text": [
            "1\n",
            "2\n",
            "3\n",
            "4\n",
            "5\n",
            "6\n",
            "7\n",
            "8\n",
            "9\n",
            "10\n"
          ]
        }
      ],
      "source": [
        "for i in range(1 , 11):\n",
        "   print(i)"
      ]
    },
    {
      "cell_type": "code",
      "source": [
        "print(range(0,10))\n",
        "print(list(range(0,100,5)))\n",
        "L1=(\"test\",1,2,3)\n",
        "for i in L1:\n",
        "   print(i)"
      ],
      "metadata": {
        "colab": {
          "base_uri": "https://localhost:8080/"
        },
        "id": "ZJjVd5XpzDVe",
        "outputId": "0b3ec2c1-7450-4e16-d40d-581f178db4ed"
      },
      "execution_count": null,
      "outputs": [
        {
          "output_type": "stream",
          "name": "stdout",
          "text": [
            "range(0, 10)\n",
            "[0, 5, 10, 15, 20, 25, 30, 35, 40, 45, 50, 55, 60, 65, 70, 75, 80, 85, 90, 95]\n",
            "test\n",
            "1\n",
            "2\n",
            "3\n"
          ]
        }
      ]
    },
    {
      "cell_type": "code",
      "source": [
        "i=0\n",
        "while i<11:\n",
        "  print(i)\n",
        "  i=i+1"
      ],
      "metadata": {
        "colab": {
          "base_uri": "https://localhost:8080/"
        },
        "id": "WI9_5vUj0ImX",
        "outputId": "e89c4116-b891-4a36-ed3f-89991d9cf3bb"
      },
      "execution_count": null,
      "outputs": [
        {
          "output_type": "stream",
          "name": "stdout",
          "text": [
            "0\n",
            "1\n",
            "2\n",
            "3\n",
            "4\n",
            "5\n",
            "6\n",
            "7\n",
            "8\n",
            "9\n",
            "10\n"
          ]
        }
      ]
    },
    {
      "cell_type": "code",
      "source": [
        "city=[\"A\",\"B\",\"C\"]\n",
        "for i in city:\n",
        "    print(\"I love\",i)"
      ],
      "metadata": {
        "colab": {
          "base_uri": "https://localhost:8080/"
        },
        "id": "wQ4dr6923VYU",
        "outputId": "fc1ea260-34d1-4a3a-9708-d51a7be31aeb"
      },
      "execution_count": null,
      "outputs": [
        {
          "output_type": "stream",
          "name": "stdout",
          "text": [
            "I love A\n",
            "I love B\n",
            "I love C\n"
          ]
        }
      ]
    },
    {
      "cell_type": "code",
      "source": [
        "for i in range(10):\n",
        "   print(i)\n",
        "else:\n",
        "     print(\"for loop ended\")"
      ],
      "metadata": {
        "colab": {
          "base_uri": "https://localhost:8080/"
        },
        "id": "Eth2_oymzCKx",
        "outputId": "d9e68beb-df09-4270-fd89-3d643ac37c41"
      },
      "execution_count": null,
      "outputs": [
        {
          "output_type": "stream",
          "name": "stdout",
          "text": [
            "0\n",
            "1\n",
            "2\n",
            "3\n",
            "4\n",
            "5\n",
            "6\n",
            "7\n",
            "8\n",
            "9\n",
            "for loop ended\n"
          ]
        }
      ]
    },
    {
      "cell_type": "code",
      "source": [
        "for i in range(10):\n",
        "   print(i)\n",
        "   if(i==8):\n",
        "\n",
        "    break\n",
        "else:\n",
        "     print(\"loop ended\")"
      ],
      "metadata": {
        "colab": {
          "base_uri": "https://localhost:8080/"
        },
        "id": "_Z8MMIXo68dk",
        "outputId": "49d6e7f5-7723-4325-9eb2-f2e61f0f6da0"
      },
      "execution_count": null,
      "outputs": [
        {
          "output_type": "stream",
          "name": "stdout",
          "text": [
            "0\n",
            "1\n",
            "2\n",
            "3\n",
            "4\n",
            "5\n",
            "6\n",
            "7\n",
            "8\n"
          ]
        }
      ]
    },
    {
      "cell_type": "code",
      "source": [
        "counter=0\n",
        "while counter<3:\n",
        "     print(\"while loop\",counter)\n",
        "     counter=counter+1\n",
        "else:\n",
        "     print(\"while ended\")"
      ],
      "metadata": {
        "colab": {
          "base_uri": "https://localhost:8080/"
        },
        "id": "Xm2vRGGr9mFf",
        "outputId": "062aee15-a8e9-4a36-b857-285d3d865db1"
      },
      "execution_count": null,
      "outputs": [
        {
          "output_type": "stream",
          "name": "stdout",
          "text": [
            "while loop 0\n",
            "while loop 1\n",
            "while loop 2\n",
            "while ended\n"
          ]
        }
      ]
    },
    {
      "cell_type": "code",
      "source": [
        "for i in range (1,11):\n",
        "   for j in range (1,11):\n",
        "      m=i*j\n",
        "      print (m, end=' ')\n",
        "   print (\"Table of \", i)"
      ],
      "metadata": {
        "colab": {
          "base_uri": "https://localhost:8080/"
        },
        "id": "Rk3WY4Zj_eDg",
        "outputId": "57610077-65b9-45b4-9e9d-afe18b433113"
      },
      "execution_count": null,
      "outputs": [
        {
          "output_type": "stream",
          "name": "stdout",
          "text": [
            "1 2 3 4 5 6 7 8 9 10 Table of  1\n",
            "2 4 6 8 10 12 14 16 18 20 Table of  2\n",
            "3 6 9 12 15 18 21 24 27 30 Table of  3\n",
            "4 8 12 16 20 24 28 32 36 40 Table of  4\n",
            "5 10 15 20 25 30 35 40 45 50 Table of  5\n",
            "6 12 18 24 30 36 42 48 54 60 Table of  6\n",
            "7 14 21 28 35 42 49 56 63 70 Table of  7\n",
            "8 16 24 32 40 48 56 64 72 80 Table of  8\n",
            "9 18 27 36 45 54 63 72 81 90 Table of  9\n",
            "10 20 30 40 50 60 70 80 90 100 Table of  10\n"
          ]
        }
      ]
    },
    {
      "cell_type": "code",
      "source": [
        "a=int(input(\"enter a number: \"))\n",
        "for i in range(1,11):\n",
        "   print(a, \"×\",i,\"=\",a*i)"
      ],
      "metadata": {
        "colab": {
          "base_uri": "https://localhost:8080/"
        },
        "id": "OJ34zM07_4ty",
        "outputId": "1195afcd-ad57-4214-b7b0-d16949b0403a"
      },
      "execution_count": null,
      "outputs": [
        {
          "output_type": "stream",
          "name": "stdout",
          "text": [
            "enter a number: 8\n",
            "8 × 1 = 8\n",
            "8 × 2 = 16\n",
            "8 × 3 = 24\n",
            "8 × 4 = 32\n",
            "8 × 5 = 40\n",
            "8 × 6 = 48\n",
            "8 × 7 = 56\n",
            "8 × 8 = 64\n",
            "8 × 9 = 72\n",
            "8 × 10 = 80\n"
          ]
        }
      ]
    },
    {
      "cell_type": "code",
      "source": [
        "a=int(input(\"Enter a number: \"))\n",
        "if(a>=10):\n",
        "    for i in range(1,11):\n",
        "       print(a, \"×\",i,\"=\",a*i)\n",
        "\n",
        "else:\n",
        "     print(\"Enter the number<11\")"
      ],
      "metadata": {
        "id": "faOplZkQERQ-"
      },
      "execution_count": null,
      "outputs": []
    },
    {
      "cell_type": "code",
      "source": [
        "a=int(input(\"enter a number: \"))\n",
        "i=1\n",
        "while i<11:\n",
        "     print(a, \"×\",i,\"=\",a*i)\n",
        "     i=i+1"
      ],
      "metadata": {
        "colab": {
          "base_uri": "https://localhost:8080/"
        },
        "id": "AD-WT8ClCJiB",
        "outputId": "37f39435-feca-4462-be13-54ebbfe94090"
      },
      "execution_count": null,
      "outputs": [
        {
          "output_type": "stream",
          "name": "stdout",
          "text": [
            "enter a number: 3\n",
            "3 × 1 = 3\n",
            "3 × 2 = 6\n",
            "3 × 3 = 9\n",
            "3 × 4 = 12\n",
            "3 × 5 = 15\n",
            "3 × 6 = 18\n",
            "3 × 7 = 21\n",
            "3 × 8 = 24\n",
            "3 × 9 = 27\n",
            "3 × 10 = 30\n"
          ]
        }
      ]
    }
  ]
}