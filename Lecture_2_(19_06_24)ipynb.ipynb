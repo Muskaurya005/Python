{
  "nbformat": 4,
  "nbformat_minor": 0,
  "metadata": {
    "colab": {
      "provenance": [],
      "authorship_tag": "ABX9TyOfBPnJJIwNkT9ud7DjBjwU",
      "include_colab_link": true
    },
    "kernelspec": {
      "name": "python3",
      "display_name": "Python 3"
    },
    "language_info": {
      "name": "python"
    }
  },
  "cells": [
    {
      "cell_type": "markdown",
      "metadata": {
        "id": "view-in-github",
        "colab_type": "text"
      },
      "source": [
        "<a href=\"https://colab.research.google.com/github/Muskaurya005/Python/blob/main/Lecture_2_(19_06_24)ipynb.ipynb\" target=\"_parent\"><img src=\"https://colab.research.google.com/assets/colab-badge.svg\" alt=\"Open In Colab\"/></a>"
      ]
    },
    {
      "cell_type": "code",
      "source": [
        "name= \"MUSKAN\"\n",
        "print(name[4])"
      ],
      "metadata": {
        "colab": {
          "base_uri": "https://localhost:8080/"
        },
        "id": "e5Ps683D6bBF",
        "outputId": "d1410626-5b7d-4b55-c20c-2be9e38649f1"
      },
      "execution_count": null,
      "outputs": [
        {
          "output_type": "stream",
          "name": "stdout",
          "text": [
            "A\n"
          ]
        }
      ]
    },
    {
      "cell_type": "code",
      "source": [
        "test=\"1000\"\n",
        "print(test[3])"
      ],
      "metadata": {
        "colab": {
          "base_uri": "https://localhost:8080/"
        },
        "id": "5EAd-rJH6zYg",
        "outputId": "db797faa-2d4d-45db-9b01-b6360d674412"
      },
      "execution_count": null,
      "outputs": [
        {
          "output_type": "stream",
          "name": "stdout",
          "text": [
            "0\n"
          ]
        }
      ]
    },
    {
      "cell_type": "code",
      "source": [
        "greet=\"Hello world\"\n",
        "print(greet[0:5])"
      ],
      "metadata": {
        "colab": {
          "base_uri": "https://localhost:8080/"
        },
        "id": "zPQszKKV8Sth",
        "outputId": "0962a7e2-2487-41ff-bf8a-40a1f738056f"
      },
      "execution_count": null,
      "outputs": [
        {
          "output_type": "stream",
          "name": "stdout",
          "text": [
            "Hello\n"
          ]
        }
      ]
    },
    {
      "cell_type": "code",
      "source": [
        "greet=\"Hello world\"\n",
        "print(greet[0:11:2])"
      ],
      "metadata": {
        "colab": {
          "base_uri": "https://localhost:8080/"
        },
        "id": "k_rhFc7A90oj",
        "outputId": "93d12e45-daff-48a3-f6a7-20b10db6daf0"
      },
      "execution_count": null,
      "outputs": [
        {
          "output_type": "stream",
          "name": "stdout",
          "text": [
            "Hlowrd\n"
          ]
        }
      ]
    },
    {
      "cell_type": "code",
      "source": [
        "greet=\"Hello world \"\n",
        "print(greet[::-1])"
      ],
      "metadata": {
        "colab": {
          "base_uri": "https://localhost:8080/"
        },
        "id": "qDDNMt99-ICB",
        "outputId": "32f6c529-6385-4360-9f9a-3c76139cd20a"
      },
      "execution_count": null,
      "outputs": [
        {
          "output_type": "stream",
          "name": "stdout",
          "text": [
            " dlrow olleH\n"
          ]
        }
      ]
    },
    {
      "cell_type": "code",
      "source": [
        "greet=\"Hello world \"\n",
        "print(\"Z\"+greet[1:6], \"M\"+ greet[7:11])"
      ],
      "metadata": {
        "colab": {
          "base_uri": "https://localhost:8080/"
        },
        "id": "rML-4ppm_8CM",
        "outputId": "ae2a8536-1008-4501-997e-45c71b51cd90"
      },
      "execution_count": null,
      "outputs": [
        {
          "output_type": "stream",
          "name": "stdout",
          "text": [
            "Zello  Morld\n"
          ]
        }
      ]
    },
    {
      "cell_type": "code",
      "source": [
        "greet=\"Hello World\"\n",
        "print(greet[-12:-1])"
      ],
      "metadata": {
        "colab": {
          "base_uri": "https://localhost:8080/"
        },
        "id": "L1zf0P35BQC0",
        "outputId": "d55304a0-db0e-4337-dd11-ebcde05e0151"
      },
      "execution_count": null,
      "outputs": [
        {
          "output_type": "stream",
          "name": "stdout",
          "text": [
            "Hello World\n"
          ]
        }
      ]
    },
    {
      "cell_type": "code",
      "source": [
        "greet=\"Hello world\"\n",
        "print(\"Z\"+greet[-10:-5], \"M\"+ greet[-4:])"
      ],
      "metadata": {
        "colab": {
          "base_uri": "https://localhost:8080/"
        },
        "id": "J943mRrmBM5t",
        "outputId": "cdd809fd-0587-4e6f-ed39-7395ba9eedef"
      },
      "execution_count": null,
      "outputs": [
        {
          "output_type": "stream",
          "name": "stdout",
          "text": [
            "Zello  Morld\n"
          ]
        }
      ]
    },
    {
      "cell_type": "code",
      "source": [
        "a=3\n",
        "b=2\n",
        "sol=(a+b)**2\n",
        "print(sol)"
      ],
      "metadata": {
        "colab": {
          "base_uri": "https://localhost:8080/"
        },
        "id": "8UylyzdzEcPB",
        "outputId": "e4eadac9-ef83-43f3-fb6f-4e6c447af3c5"
      },
      "execution_count": null,
      "outputs": [
        {
          "output_type": "stream",
          "name": "stdout",
          "text": [
            "25\n"
          ]
        }
      ]
    },
    {
      "cell_type": "code",
      "source": [
        "a=3\n",
        "b=2\n",
        "print((a**2)+(b**2)+(2*a*b))"
      ],
      "metadata": {
        "colab": {
          "base_uri": "https://localhost:8080/"
        },
        "id": "8bCGreYyGSTC",
        "outputId": "98ac1b42-4e9c-4931-8bdd-30714066a4b1"
      },
      "execution_count": null,
      "outputs": [
        {
          "output_type": "stream",
          "name": "stdout",
          "text": [
            "25\n"
          ]
        }
      ]
    },
    {
      "cell_type": "code",
      "source": [
        "s1=int(input(\"Enter s1 marks:\"))\n",
        "s2=int(input(\"Enter s2 marks:\"))\n",
        "s3=int(input(\"Enter s3 marks:\"))\n",
        "s4=int(input(\"Enter s4 marks:\"))\n",
        "s5=int(input(\"Enter s5 marks:\"))\n",
        "percentage=(s1+s2+s3+s4+s5)/5\n",
        "print(percentage)"
      ],
      "metadata": {
        "colab": {
          "base_uri": "https://localhost:8080/"
        },
        "id": "OFQVtUvUGskh",
        "outputId": "b563469e-2bf9-4261-eb2e-a5a5ee844b67"
      },
      "execution_count": null,
      "outputs": [
        {
          "output_type": "stream",
          "name": "stdout",
          "text": [
            "Enter s1 marks:66\n",
            "Enter s2 marks:67\n",
            "Enter s3 marks:78\n",
            "Enter s4 marks:89\n",
            "Enter s5 marks:90\n",
            "78.0\n"
          ]
        }
      ]
    },
    {
      "cell_type": "code",
      "source": [
        "#TAKE TWO INPUT FROM USER\n",
        "a=int(input(\"a: \"))\n",
        "b=int(input(\"b: \"))\n",
        "print(a+b)"
      ],
      "metadata": {
        "id": "heCa1tGNi8oz",
        "colab": {
          "base_uri": "https://localhost:8080/"
        },
        "outputId": "1a282272-b7b4-46b3-8037-24d63887fc3c"
      },
      "execution_count": null,
      "outputs": [
        {
          "output_type": "stream",
          "name": "stdout",
          "text": [
            "a: 4\n",
            "b: 6\n",
            "10\n"
          ]
        }
      ]
    },
    {
      "cell_type": "code",
      "source": [
        "#TAKE INPUT AND MAKE CALCULATOR\n",
        "a=int(input(\"a: \"))\n",
        "b=int(input(\"b: \"))\n",
        "print (a+b)\n",
        "print(a-b)\n",
        "print(a/b)\n",
        "print(a*b)"
      ],
      "metadata": {
        "colab": {
          "base_uri": "https://localhost:8080/"
        },
        "id": "jjBdONPEmdXY",
        "outputId": "c4061a25-f689-4769-a95a-43506c57ae76"
      },
      "execution_count": null,
      "outputs": [
        {
          "output_type": "stream",
          "name": "stdout",
          "text": [
            "a: 5\n",
            "b: 2\n",
            "7\n",
            "3\n",
            "2.5\n",
            "10\n"
          ]
        }
      ]
    }
  ]
}