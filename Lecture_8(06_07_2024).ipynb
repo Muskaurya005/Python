{
  "nbformat": 4,
  "nbformat_minor": 0,
  "metadata": {
    "colab": {
      "provenance": [],
      "authorship_tag": "ABX9TyP5rhaCnbUELnx8GBkM35XA",
      "include_colab_link": true
    },
    "kernelspec": {
      "name": "python3",
      "display_name": "Python 3"
    },
    "language_info": {
      "name": "python"
    }
  },
  "cells": [
    {
      "cell_type": "markdown",
      "metadata": {
        "id": "view-in-github",
        "colab_type": "text"
      },
      "source": [
        "<a href=\"https://colab.research.google.com/github/Muskaurya005/Python/blob/main/Lecture_8(06_07_2024).ipynb\" target=\"_parent\"><img src=\"https://colab.research.google.com/assets/colab-badge.svg\" alt=\"Open In Colab\"/></a>"
      ]
    },
    {
      "cell_type": "code",
      "execution_count": null,
      "metadata": {
        "colab": {
          "base_uri": "https://localhost:8080/"
        },
        "id": "yWrZ9p3bQjps",
        "outputId": "eb2e7fa9-e300-43f9-aab4-7d8c45f63683"
      },
      "outputs": [
        {
          "output_type": "stream",
          "name": "stdout",
          "text": [
            "Enter your choice: \n",
            "1:add\n",
            "2:sub\n",
            "3:multi\n",
            "4:divi  1\n",
            "Enter First Numberv: 6\n",
            "Enter Second Number: 7\n",
            "13\n"
          ]
        }
      ],
      "source": [
        "\n",
        "#FUNCTION (CALCULATOR by using PRINT STATEMENT)\n",
        "def add(a,b):\n",
        "   print ( a+b)\n",
        "def sub(a,b):\n",
        "   print (a-b)\n",
        "def multi(a,b):\n",
        "   print  (a*b)\n",
        "def divi(a,b):\n",
        "   print (a/b)\n",
        "\n",
        "choice=int(input('''Enter your choice:\n",
        "1:add\n",
        "2:sub\n",
        "3:multi\n",
        "4:divi  '''))\n",
        "\n",
        "num1=int(input(\"Enter First Numberv: \"))\n",
        "num2=int(input(\"Enter Second Number: \"))\n",
        "\n",
        "\n",
        "if choice==1:\n",
        " add(num1, num2)\n",
        "elif choice==2 :\n",
        " sub(num1, num2)\n",
        "elif choice==3 :\n",
        " multi(num1, num2)\n",
        "else:\n",
        " choice==4\n",
        " divi(num1, num2)"
      ]
    },
    {
      "cell_type": "code",
      "source": [
        "#FUNCTION (CALCULATOR by using RETURN STATEMENT)\n",
        "def add(a,b):\n",
        "   return( a+b)\n",
        "def sub(a,b):\n",
        "   return (a-b)\n",
        "def multi(a,b):\n",
        "   return(a*b)\n",
        "def divi(a,b):\n",
        "   return (a/b)\n",
        "\n",
        "choice=int(input('''Enter your choice:\n",
        "1:add\n",
        "2:sub\n",
        "3:multi\n",
        "4:divi  '''))\n",
        "\n",
        "num1=int(input(\"Enter First Number: \"))\n",
        "num2=int(input(\"Enter Second Number: \"))\n",
        "\n",
        "\n",
        "if choice==1:\n",
        "    result=add(num1, num2)\n",
        "    print(result)\n",
        "elif choice==2 :\n",
        "     result=sub(num1, num2)\n",
        "     print(result)\n",
        "elif choice==3 :\n",
        "     result=multi(num1, num2)\n",
        "     print(result)\n",
        "else:\n",
        "\n",
        " result=divi(num1, num2)\n",
        " print(result)"
      ],
      "metadata": {
        "colab": {
          "base_uri": "https://localhost:8080/"
        },
        "id": "hkr8mqCkUsye",
        "outputId": "fbb0dbc6-fc50-4659-d942-c560bc9fa2eb"
      },
      "execution_count": null,
      "outputs": [
        {
          "output_type": "stream",
          "name": "stdout",
          "text": [
            "Enter your choice: \n",
            "1:add\n",
            "2:sub\n",
            "3:multi\n",
            "4:divi  1\n",
            "Enter First Number: 4\n",
            "Enter Second Number: 6\n",
            "10\n"
          ]
        }
      ]
    },
    {
      "cell_type": "code",
      "source": [
        "def  max(a, b):\n",
        "  if (a > b) :\n",
        "    print(a)\n",
        "  else:\n",
        "    print (b)\n",
        "\n",
        "x, y, z=10, 20,30\n",
        "print(max(x, max(y, z)))"
      ],
      "metadata": {
        "colab": {
          "base_uri": "https://localhost:8080/",
          "height": 419
        },
        "id": "HJz6cRf0dQ_H",
        "outputId": "cb7c0e5e-631d-4f90-e20c-914410206c8e"
      },
      "execution_count": null,
      "outputs": [
        {
          "output_type": "stream",
          "name": "stdout",
          "text": [
            "30\n"
          ]
        },
        {
          "output_type": "error",
          "ename": "TypeError",
          "evalue": "'>' not supported between instances of 'int' and 'NoneType'",
          "traceback": [
            "\u001b[0;31m---------------------------------------------------------------------------\u001b[0m",
            "\u001b[0;31mTypeError\u001b[0m                                 Traceback (most recent call last)",
            "\u001b[0;32m<ipython-input-26-b2948513ca13>\u001b[0m in \u001b[0;36m<cell line: 8>\u001b[0;34m()\u001b[0m\n\u001b[1;32m      6\u001b[0m \u001b[0;34m\u001b[0m\u001b[0m\n\u001b[1;32m      7\u001b[0m \u001b[0mx\u001b[0m\u001b[0;34m,\u001b[0m \u001b[0my\u001b[0m\u001b[0;34m,\u001b[0m \u001b[0mz\u001b[0m\u001b[0;34m=\u001b[0m\u001b[0;36m10\u001b[0m\u001b[0;34m,\u001b[0m \u001b[0;36m20\u001b[0m\u001b[0;34m,\u001b[0m\u001b[0;36m30\u001b[0m\u001b[0;34m\u001b[0m\u001b[0;34m\u001b[0m\u001b[0m\n\u001b[0;32m----> 8\u001b[0;31m \u001b[0mprint\u001b[0m\u001b[0;34m(\u001b[0m\u001b[0mmax\u001b[0m\u001b[0;34m(\u001b[0m\u001b[0mx\u001b[0m\u001b[0;34m,\u001b[0m \u001b[0mmax\u001b[0m\u001b[0;34m(\u001b[0m\u001b[0my\u001b[0m\u001b[0;34m,\u001b[0m \u001b[0mz\u001b[0m\u001b[0;34m)\u001b[0m\u001b[0;34m)\u001b[0m\u001b[0;34m)\u001b[0m\u001b[0;34m\u001b[0m\u001b[0;34m\u001b[0m\u001b[0m\n\u001b[0m",
            "\u001b[0;32m<ipython-input-26-b2948513ca13>\u001b[0m in \u001b[0;36mmax\u001b[0;34m(a, b)\u001b[0m\n\u001b[1;32m      1\u001b[0m \u001b[0;32mdef\u001b[0m  \u001b[0mmax\u001b[0m\u001b[0;34m(\u001b[0m\u001b[0ma\u001b[0m\u001b[0;34m,\u001b[0m \u001b[0mb\u001b[0m\u001b[0;34m)\u001b[0m\u001b[0;34m:\u001b[0m\u001b[0;34m\u001b[0m\u001b[0;34m\u001b[0m\u001b[0m\n\u001b[0;32m----> 2\u001b[0;31m   \u001b[0;32mif\u001b[0m \u001b[0;34m(\u001b[0m\u001b[0ma\u001b[0m \u001b[0;34m>\u001b[0m \u001b[0mb\u001b[0m\u001b[0;34m)\u001b[0m \u001b[0;34m:\u001b[0m\u001b[0;34m\u001b[0m\u001b[0;34m\u001b[0m\u001b[0m\n\u001b[0m\u001b[1;32m      3\u001b[0m     \u001b[0mprint\u001b[0m\u001b[0;34m(\u001b[0m\u001b[0ma\u001b[0m\u001b[0;34m)\u001b[0m\u001b[0;34m\u001b[0m\u001b[0;34m\u001b[0m\u001b[0m\n\u001b[1;32m      4\u001b[0m   \u001b[0;32melse\u001b[0m\u001b[0;34m:\u001b[0m\u001b[0;34m\u001b[0m\u001b[0;34m\u001b[0m\u001b[0m\n\u001b[1;32m      5\u001b[0m     \u001b[0mprint\u001b[0m \u001b[0;34m(\u001b[0m\u001b[0mb\u001b[0m\u001b[0;34m)\u001b[0m\u001b[0;34m\u001b[0m\u001b[0;34m\u001b[0m\u001b[0m\n",
            "\u001b[0;31mTypeError\u001b[0m: '>' not supported between instances of 'int' and 'NoneType'"
          ]
        }
      ]
    },
    {
      "cell_type": "code",
      "source": [
        "def add(a,b) :\n",
        "   return a+b\n",
        "\n",
        "x=add(10,add(20,30))\n",
        "add(20,x)"
      ],
      "metadata": {
        "colab": {
          "base_uri": "https://localhost:8080/"
        },
        "id": "1y78KYfRgy1h",
        "outputId": "0e082145-4fa7-41c0-c298-9a007a48a333"
      },
      "execution_count": null,
      "outputs": [
        {
          "output_type": "execute_result",
          "data": {
            "text/plain": [
              "80"
            ]
          },
          "metadata": {},
          "execution_count": 30
        }
      ]
    },
    {
      "cell_type": "code",
      "source": [
        "\n",
        "#TAKE FOUR INPUT FROM THE USER AND CALCULATE\n",
        "def add(a,b):\n",
        "    return( a+b)\n",
        "def sub(a,b):\n",
        "   return (a-b)\n",
        "def multi(a,b):\n",
        "   return(a*b)\n",
        "\n",
        "choice=int(input('''Enter your choice:\n",
        "1:add\n",
        "2:sub\n",
        "3:multi''' ))\n",
        "\n",
        "num1=int(input(\"Enter First Number: \"))\n",
        "num2=int(input(\"Enter Second Number: \"))\n",
        "num3=int(input(\"Enter Third Number: \"))\n",
        "num4=int(input(\"Enter Fourth Number: \"))\n",
        "\n",
        "\n",
        "if choice==1:\n",
        "    print(add(num1, add(num2, add(num3,num4))))\n",
        "\n",
        "elif choice==2:\n",
        "     print(sub(num1, sub(num2, sub(num3,num4))))\n",
        "\n",
        "else:\n",
        "     print(multi(num1, multi(num2, multi(num3,num4))))"
      ],
      "metadata": {
        "id": "DETXV5cakei3",
        "colab": {
          "base_uri": "https://localhost:8080/"
        },
        "outputId": "19cb173b-04b0-42ad-a2ab-b22b101e05c7"
      },
      "execution_count": null,
      "outputs": [
        {
          "output_type": "stream",
          "name": "stdout",
          "text": [
            "Enter your choice:\n",
            "1:add\n",
            "2:sub\n",
            "3:multi2\n",
            "Enter First Number: 3\n",
            "Enter Second Number: 2\n",
            "Enter Third Number: 4\n",
            "Enter Fourth Number: 5\n",
            "0\n"
          ]
        }
      ]
    },
    {
      "cell_type": "code",
      "source": [
        "\n",
        "#TAKE THREE INPUT FROM USER AND CALCULATE\n",
        "def add(a,b):\n",
        "    return( a+b)\n",
        "def sub(a,b):\n",
        "   return (a-b)\n",
        "def multi(a,b):\n",
        "   return(a*b)\n",
        "\n",
        "\n",
        "\n",
        "choice=int(input('''Enter your choice:\n",
        "1:add\n",
        "2:sub\n",
        "3:multi\\n''' ))\n",
        "\n",
        "num1=int(input(\"Enter First Number: \"))\n",
        "num2=int(input(\"Enter Second Number: \"))\n",
        "num3=int(input(\"Enter Third Number: \"))\n",
        "\n",
        "\n",
        "if choice==1:\n",
        "    result=add(num1, add(num2,num3))\n",
        "    print(result)\n",
        "elif choice==2 :\n",
        "     result=sub(num1, sub(num2,num3))\n",
        "     print(result)\n",
        "else:\n",
        "     result=multi(num1, multi(num2,num3))\n",
        "     print(result)"
      ],
      "metadata": {
        "colab": {
          "base_uri": "https://localhost:8080/"
        },
        "id": "B3bYXBIU9qOc",
        "outputId": "af9161ef-c9b9-4b33-b7d1-cd8c86dc4c4b"
      },
      "execution_count": null,
      "outputs": [
        {
          "output_type": "stream",
          "name": "stdout",
          "text": [
            "Enter your choice:\n",
            "1:add\n",
            "2:sub\n",
            "3:multi\n",
            "3\n",
            "Enter First Number: 3\n",
            "Enter Second Number: 4\n",
            "Enter Third Number: 5\n",
            "60\n"
          ]
        }
      ]
    }
  ]
}