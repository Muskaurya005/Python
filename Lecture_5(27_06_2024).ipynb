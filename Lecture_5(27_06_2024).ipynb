{
  "cells": [
    {
      "cell_type": "markdown",
      "metadata": {
        "id": "view-in-github",
        "colab_type": "text"
      },
      "source": [
        "<a href=\"https://colab.research.google.com/github/Muskaurya005/Python/blob/main/Lecture_5(27_06_2024).ipynb\" target=\"_parent\"><img src=\"https://colab.research.google.com/assets/colab-badge.svg\" alt=\"Open In Colab\"/></a>"
      ]
    },
    {
      "cell_type": "code",
      "source": [
        "\n",
        "num=float(input(\"Enter the number: \"))\n",
        "if num>=0:\n",
        "  if num==0:\n",
        "      print(\"Zero\")\n",
        "  else:\n",
        "       print(\"positive\")\n",
        "else:\n",
        "     print(\"negative\")"
      ],
      "metadata": {
        "id": "HOMnU5Aoo3Bv",
        "colab": {
          "base_uri": "https://localhost:8080/"
        },
        "outputId": "f9a6b2db-a4a1-48d9-f587-b2a009ad543a"
      },
      "execution_count": null,
      "outputs": [
        {
          "output_type": "stream",
          "name": "stdout",
          "text": [
            "Enter the number: 6\n",
            "positive\n"
          ]
        }
      ]
    },
    {
      "cell_type": "code",
      "source": [
        "a=10\n",
        "b=20\n",
        "print(a) if(a>b) else print(b) if(a<b) else print(\"equal\")"
      ],
      "metadata": {
        "colab": {
          "base_uri": "https://localhost:8080/"
        },
        "id": "kITkOjeTjnv-",
        "outputId": "790cdffd-eed6-4948-e34e-de052dc7f8b8"
      },
      "execution_count": null,
      "outputs": [
        {
          "output_type": "stream",
          "name": "stdout",
          "text": [
            "20\n"
          ]
        }
      ]
    },
    {
      "cell_type": "code",
      "source": [
        "a=10\n",
        "b=30\n",
        "print(a) if a>b else print(b)"
      ],
      "metadata": {
        "colab": {
          "base_uri": "https://localhost:8080/"
        },
        "id": "wfHw3Wr-oDut",
        "outputId": "17daf4f8-adbb-4997-9970-8b8e98f04e7e"
      },
      "execution_count": null,
      "outputs": [
        {
          "output_type": "stream",
          "name": "stdout",
          "text": [
            "30\n"
          ]
        }
      ]
    },
    {
      "cell_type": "code",
      "source": [
        "#TAKE INPUT FROM USER AND PRINT THEY ARE ELIGIBLE FOR JOB OR NOT\n",
        "age =int(input(\"Enter your age: \\n\"))\n",
        "\n",
        "if age >= 16 and age <= 18:\n",
        "      print(\"You are eligible for part time job.\")\n",
        "\n",
        "\n",
        "elif age >= 18 and age <= 65:\n",
        "     print(\"You are eligible for fulltime job. \")\n",
        "\n",
        "elif age < 16:\n",
        "     print(\"Not eligible for work.\")\n",
        "else:\n",
        "     (\"Error!!\")"
      ],
      "metadata": {
        "colab": {
          "base_uri": "https://localhost:8080/"
        },
        "id": "2eIvmc1OowAJ",
        "outputId": "900adf14-e0f5-4356-ecc4-124e4fdf6b3b"
      },
      "execution_count": null,
      "outputs": [
        {
          "output_type": "stream",
          "name": "stdout",
          "text": [
            "Enter your age: \n",
            "55\n",
            "You are eligible for fulltime job. \n"
          ]
        }
      ]
    },
    {
      "cell_type": "code",
      "source": [
        "a=int(input(\"Enter age: \"))\n",
        "print(\"Eligible for part-time job\") if (16<=a<18) else print(\"Eligible for full-time job\") if(18<=a<6) else(\"not eligible\")"
      ],
      "metadata": {
        "colab": {
          "base_uri": "https://localhost:8080/"
        },
        "id": "bw5hsMDfp0Aa",
        "outputId": "b34d0068-4843-4210-f94b-e2a03f5d4d26"
      },
      "execution_count": null,
      "outputs": [
        {
          "output_type": "stream",
          "name": "stdout",
          "text": [
            "Enter age: 17\n",
            "Eligible for part-time job\n"
          ]
        }
      ]
    },
    {
      "cell_type": "code",
      "source": [
        "#TAKE INPUT FROM USER AND MAKE MANU\n",
        "choice=input(\"Enter your choice(Breakfast,Lunch,Dinner):\\n \");\n",
        "#BREAKFAST\n",
        "if(choice==\"Breakfast\"):\n",
        "  print(\"What would you like to order for breakfast?\\n\");\n",
        "  cuisine=input(\"Enter the cuisine(North-Indian/South-Indian)\\n\");\n",
        "  if(cuisine==\"North-Indian\"):\n",
        "    food=input(\"Select your choice of food:(Bhajiya-Chay,Uppama-Chay)\\n\");\n",
        "    if(food==\"Bhajiya-Chay\"):\n",
        "      print(\"You have ordered Bhajiya-Chay!\");\n",
        "    elif(food==\"Uppama-Chay\"):\n",
        "      print(\"You have ordered Uppama-Chay!\");\n",
        "    else:\n",
        "      print(\"ENTER VALID VALUE!\");\n",
        "  elif(cuisine==\"South-Indian\"):\n",
        "    food=input(\"Select your choice of food:(Mendu-Vada,Idli-Sambar)\\n\");\n",
        "    if(food==\"Mendu-Vada\"):\n",
        "      print(\"You have ordered Mendu-Vada!\");\n",
        "    elif(food==\"Idli-Sambar\"):\n",
        "      print(\"You have ordered Idli-Sambar!\");\n",
        "    else:\n",
        "      print(\"ENTER VALID VALUE!\");\n",
        "  else:\n",
        "    print(\"ENTER VALID VALUE!\");\n",
        "#LUNCH\n",
        "elif(choice==\"Lunch\"):\n",
        "  print(\"What would you like to order for lunch?\\n\");\n",
        "  cuisine=input(\"Enter the cuisine(North-Indian/South-Indian)\\n\");\n",
        "  if(cuisine==\"North-Indian\"):\n",
        "    food=input(\"Select your choice of food:(Dal-Chawal,Roti-Bhaji)\\n\");\n",
        "    if(food==\"Dal-Chawal\"):\n",
        "      print(\"You have ordered Dal-Chawal!\");\n",
        "    elif(food==\"Roti-Bhaji\"):\n",
        "      print(\"You have ordered Roti-Bhaji!\");\n",
        "    else:\n",
        "      print(\"ENTER VALID VALUE!\");\n",
        "  elif(cuisine==\"South-Indian\"):\n",
        "    food=input(\"Select your choice of food:(Rasam-Rice,)\");\n",
        "    if(food==\"RS\"):\n",
        "      print(\"You have ordered Rasam-Rice!\");\n",
        "    elif(food==\"CR\"):\n",
        "      print(\"You have ordered -Rice!\");\n",
        "    else:\n",
        "      print(\"ENTER VALID VALUE!\");\n",
        "  else:\n",
        "    print(\"ENTER VALID VALUE!\");\n",
        "#DINNER\n",
        "elif(choice==\"Dinner\"):\n",
        "  print(\"What would you like to order for dinner?\\n\");\n",
        "  cuisine=input(\"Enter the cuisine(North-Indian/South-Indian)\\n\");\n",
        "  if(cuisine==\"North-Indian\"):\n",
        "    food=input(\"Select your choice of food:(MatarPaneer-Naan,Chhole-Bhatur)\\n\");\n",
        "    if(food==\"MatarPaneer-Naan\"):\n",
        "      print(\"You have ordered MatarPaneer-Naan!\");\n",
        "    elif(food==\"Chhole-Bhature\"):\n",
        "      print(\"You have ordered Chhole-Bhature!\");\n",
        "    else:\n",
        "      print(\"ENTER VALID VALUE!\");\n",
        "  elif(cuisine==\"South-Indian\"):\n",
        "    food=input(\"Select your choice of food:(Rice-Sambar, Biryani)\\n\");\n",
        "    if(food==\"Rice-Sambar\"):\n",
        "      print(\"You have ordered Rice-Sambar!\");\n",
        "    elif(food==\"Biryani\"):\n",
        "      print(\"You have ordered Biryani!\");\n",
        "    else:\n",
        "      print(\"ENTER VALID VALUE!\");\n",
        "  else:\n",
        "    print(\"ENTER VALID VALUE!\");\n",
        "else:\n",
        "   print(\"ENTER VALID VALUE!\");\n",
        "print(\"\\nTHANK YOU !!\\nVISIT AGAIN!!\")"
      ],
      "metadata": {
        "colab": {
          "base_uri": "https://localhost:8080/"
        },
        "id": "EzAAbwZgo3Sn",
        "outputId": "1112742b-773a-43ba-e5e7-b8f2c051f267"
      },
      "execution_count": null,
      "outputs": [
        {
          "output_type": "stream",
          "name": "stdout",
          "text": [
            "Enter your choice(Breakfast,Lunch,Dinner):\n",
            " Lunch\n",
            "What would you like to order for lunch?\n",
            "\n",
            "Enter the cuisine(North-Indian/South-Indian)\n",
            "North-Indian\n",
            "Select your choice of food:(Dal-Chawal,Roti-Bhaji)\n",
            "Dal-Chawal\n",
            "You have ordered Dal-Chawal!\n",
            "\n",
            "THANK YOU !!\n",
            "VISIT AGAIN!!\n"
          ]
        }
      ]
    },
    {
      "cell_type": "code",
      "source": [
        "#TAKE INPUTS FROM USER AND SUGGEST THEM BEST LAPTOP IN BUDGET\n",
        "budget=int(input(\"Enter Your Budget:\\n\"))\n",
        "if budget>=100000:\n",
        "    print(\"1:Asus,2:Lenovo,3:other\")\n",
        "    choice=int(input(\"Enter Your choice:\\n\"))\n",
        "    if choice == 1:\n",
        "       print(\"Bought Asus\")\n",
        "    elif choice == 2:\n",
        "        print(\"Bought Lenovo\")\n",
        "    else:\n",
        "        print(\"Enter valid Budget\")\n",
        "elif budget>5000 and budget<100000:\n",
        "    print(\"1:HP,2:other\")\n",
        "    choice=int(input(\"Enter Your choice:\\n\"))\n",
        "    if choice == 1:\n",
        "        print(\"Bought HP\")\n",
        "    else:\n",
        "        print(\"Enter valid Budget\")\n",
        "else:\n",
        "    print(\"Range not found!!\")"
      ],
      "metadata": {
        "id": "tR9-_IKDpFYp",
        "colab": {
          "base_uri": "https://localhost:8080/"
        },
        "outputId": "20fa1680-095c-4f49-c9c2-e72198b2d0d5"
      },
      "execution_count": null,
      "outputs": [
        {
          "output_type": "stream",
          "name": "stdout",
          "text": [
            "Enter Your Budget:\n",
            "100000\n",
            "1:Asus,2:Lenovo,3:other\n",
            "Enter Your choice:\n",
            "1\n",
            "Bought Asus\n"
          ]
        }
      ]
    }
  ],
  "metadata": {
    "colab": {
      "provenance": [],
      "authorship_tag": "ABX9TyPo7MLxxtDj/jwrP7ZGqwgR",
      "include_colab_link": true
    },
    "kernelspec": {
      "display_name": "Python 3",
      "name": "python3"
    },
    "language_info": {
      "name": "python"
    }
  },
  "nbformat": 4,
  "nbformat_minor": 0
}