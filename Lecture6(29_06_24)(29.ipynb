{
  "nbformat": 4,
  "nbformat_minor": 0,
  "metadata": {
    "colab": {
      "provenance": [],
      "authorship_tag": "ABX9TyPP3NEoT4BiLLBJO62nimm+",
      "include_colab_link": true
    },
    "kernelspec": {
      "name": "python3",
      "display_name": "Python 3"
    },
    "language_info": {
      "name": "python"
    }
  },
  "cells": [
    {
      "cell_type": "markdown",
      "metadata": {
        "id": "view-in-github",
        "colab_type": "text"
      },
      "source": [
        "<a href=\"https://colab.research.google.com/github/Muskaurya005/Python/blob/main/Lecture6(29_06_24)(29.ipynb\" target=\"_parent\"><img src=\"https://colab.research.google.com/assets/colab-badge.svg\" alt=\"Open In Colab\"/></a>"
      ]
    },
    {
      "cell_type": "code",
      "execution_count": null,
      "metadata": {
        "colab": {
          "base_uri": "https://localhost:8080/"
        },
        "id": "8JRj3m-EuUU0",
        "outputId": "b7a51114-92be-4e0c-af71-31d17eb5f5d6"
      },
      "outputs": [
        {
          "output_type": "stream",
          "name": "stdout",
          "text": [
            "1\n",
            "2\n",
            "3\n",
            "4\n",
            "5\n",
            "6\n",
            "7\n",
            "8\n",
            "9\n",
            "10\n"
          ]
        }
      ],
      "source": [
        "for i in range(1 , 11):\n",
        "   print(i)"
      ]
    },
    {
      "cell_type": "code",
      "source": [
        "print(range(0,10))\n",
        "print(list(range(0,100,5)))\n",
        "L1=(\"test\",1,2,3)\n",
        "for i in L1:\n",
        "   print(i)"
      ],
      "metadata": {
        "colab": {
          "base_uri": "https://localhost:8080/"
        },
        "id": "ZJjVd5XpzDVe",
        "outputId": "0b3ec2c1-7450-4e16-d40d-581f178db4ed"
      },
      "execution_count": null,
      "outputs": [
        {
          "output_type": "stream",
          "name": "stdout",
          "text": [
            "range(0, 10)\n",
            "[0, 5, 10, 15, 20, 25, 30, 35, 40, 45, 50, 55, 60, 65, 70, 75, 80, 85, 90, 95]\n",
            "test\n",
            "1\n",
            "2\n",
            "3\n"
          ]
        }
      ]
    },
    {
      "cell_type": "code",
      "source": [
        "i=0\n",
        "while i<11:\n",
        "  print(i)\n",
        "  i=i+1"
      ],
      "metadata": {
        "colab": {
          "base_uri": "https://localhost:8080/"
        },
        "id": "WI9_5vUj0ImX",
        "outputId": "e89c4116-b891-4a36-ed3f-89991d9cf3bb"
      },
      "execution_count": null,
      "outputs": [
        {
          "output_type": "stream",
          "name": "stdout",
          "text": [
            "0\n",
            "1\n",
            "2\n",
            "3\n",
            "4\n",
            "5\n",
            "6\n",
            "7\n",
            "8\n",
            "9\n",
            "10\n"
          ]
        }
      ]
    },
    {
      "cell_type": "code",
      "source": [
        "city=[\"A\",\"B\",\"C\"]\n",
        "for i in city:\n",
        "    print(\"I love\",i)"
      ],
      "metadata": {
        "colab": {
          "base_uri": "https://localhost:8080/"
        },
        "id": "wQ4dr6923VYU",
        "outputId": "fc1ea260-34d1-4a3a-9708-d51a7be31aeb"
      },
      "execution_count": null,
      "outputs": [
        {
          "output_type": "stream",
          "name": "stdout",
          "text": [
            "I love A\n",
            "I love B\n",
            "I love C\n"
          ]
        }
      ]
    },
    {
      "cell_type": "code",
      "source": [
        "for i in range(10):\n",
        "   print(i)\n",
        "else:\n",
        "     print(\"for loop ended\")"
      ],
      "metadata": {
        "colab": {
          "base_uri": "https://localhost:8080/"
        },
        "id": "Eth2_oymzCKx",
        "outputId": "d9e68beb-df09-4270-fd89-3d643ac37c41"
      },
      "execution_count": null,
      "outputs": [
        {
          "output_type": "stream",
          "name": "stdout",
          "text": [
            "0\n",
            "1\n",
            "2\n",
            "3\n",
            "4\n",
            "5\n",
            "6\n",
            "7\n",
            "8\n",
            "9\n",
            "for loop ended\n"
          ]
        }
      ]
    },
    {
      "cell_type": "code",
      "source": [
        "for i in range(10):\n",
        "   print(i)\n",
        "   if(i==8):\n",
        "      print(\"Break loop\")\n",
        "      break\n",
        "   else:\n",
        "     print(\"loop ended\")"
      ],
      "metadata": {
        "colab": {
          "base_uri": "https://localhost:8080/"
        },
        "id": "_Z8MMIXo68dk",
        "outputId": "06e7e4ff-e51a-4e7e-87db-7267d6603021"
      },
      "execution_count": null,
      "outputs": [
        {
          "output_type": "stream",
          "name": "stdout",
          "text": [
            "0\n",
            "loop ended\n",
            "1\n",
            "loop ended\n",
            "2\n",
            "loop ended\n",
            "3\n",
            "loop ended\n",
            "4\n",
            "loop ended\n",
            "5\n",
            "loop ended\n",
            "6\n",
            "loop ended\n",
            "7\n",
            "loop ended\n",
            "8\n",
            "Break loop\n"
          ]
        }
      ]
    },
    {
      "cell_type": "code",
      "source": [
        "counter=0\n",
        "while counter<3:\n",
        "     print(\"while loop\",counter)\n",
        "     counter=counter+1\n",
        "else:\n",
        "     print(\"while ended\")"
      ],
      "metadata": {
        "colab": {
          "base_uri": "https://localhost:8080/"
        },
        "id": "Xm2vRGGr9mFf",
        "outputId": "062aee15-a8e9-4a36-b857-285d3d865db1"
      },
      "execution_count": null,
      "outputs": [
        {
          "output_type": "stream",
          "name": "stdout",
          "text": [
            "while loop 0\n",
            "while loop 1\n",
            "while loop 2\n",
            "while ended\n"
          ]
        }
      ]
    },
    {
      "cell_type": "code",
      "source": [
        "a=int(input(\"enter a number: \"))\n",
        "for i in range(1,11):\n",
        "   print(a, \"*\",i,\"=\",a*i)"
      ],
      "metadata": {
        "id": "OJ34zM07_4ty",
        "colab": {
          "base_uri": "https://localhost:8080/"
        },
        "outputId": "6a53c6a6-dcfd-4208-f023-11216f41293f"
      },
      "execution_count": null,
      "outputs": [
        {
          "output_type": "stream",
          "name": "stdout",
          "text": [
            "enter a number: 7\n",
            "7 * 1 = 7\n",
            "7 * 2 = 14\n",
            "7 * 3 = 21\n",
            "7 * 4 = 28\n",
            "7 * 5 = 35\n",
            "7 * 6 = 42\n",
            "7 * 7 = 49\n",
            "7 * 8 = 56\n",
            "7 * 9 = 63\n",
            "7 * 10 = 70\n"
          ]
        }
      ]
    },
    {
      "cell_type": "code",
      "source": [
        "a=int(input(\"enter a number: \"))\n",
        "i=1\n",
        "while i<11:\n",
        "   print(a, \"*\",i,\"=\",a*i)\n",
        "   i=i+1"
      ],
      "metadata": {
        "colab": {
          "base_uri": "https://localhost:8080/"
        },
        "id": "PGinD0xIpgn8",
        "outputId": "00ffede5-417e-4401-cfca-7f9e6770ae70"
      },
      "execution_count": null,
      "outputs": [
        {
          "output_type": "stream",
          "name": "stdout",
          "text": [
            "enter a number: 6\n",
            "6 * 1 = 6\n",
            "6 * 2 = 12\n",
            "6 * 3 = 18\n",
            "6 * 4 = 24\n",
            "6 * 5 = 30\n",
            "6 * 6 = 36\n",
            "6 * 7 = 42\n",
            "6 * 8 = 48\n",
            "6 * 9 = 54\n",
            "6 * 10 = 60\n"
          ]
        }
      ]
    },
    {
      "cell_type": "code",
      "source": [
        "a=int(input(\"Enter number: \"))\n",
        "if a<=10:\n",
        " i=1\n",
        " while i<11:\n",
        "  print(a, \"*\",i, \"=\", a*i)\n",
        "  i=i+1\n",
        "else:\n",
        "  print(\"Enter number between 1 to 10\")"
      ],
      "metadata": {
        "id": "nyILOXngqMnW",
        "colab": {
          "base_uri": "https://localhost:8080/"
        },
        "outputId": "e7b5b53b-bcce-4924-c60f-a1cce83396a3"
      },
      "execution_count": null,
      "outputs": [
        {
          "output_type": "stream",
          "name": "stdout",
          "text": [
            "Enter number: 7\n",
            "7 * 1 = 7\n",
            "7 * 2 = 14\n",
            "7 * 3 = 21\n",
            "7 * 4 = 28\n",
            "7 * 5 = 35\n",
            "7 * 6 = 42\n",
            "7 * 7 = 49\n",
            "7 * 8 = 56\n",
            "7 * 9 = 63\n",
            "7 * 10 = 70\n"
          ]
        }
      ]
    }
  ]
}