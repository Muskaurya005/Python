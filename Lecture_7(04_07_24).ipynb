{
  "nbformat": 4,
  "nbformat_minor": 0,
  "metadata": {
    "colab": {
      "provenance": [],
      "authorship_tag": "ABX9TyN8mkfKr2J+bs0EQrX3lHkd",
      "include_colab_link": true
    },
    "kernelspec": {
      "name": "python3",
      "display_name": "Python 3"
    },
    "language_info": {
      "name": "python"
    }
  },
  "cells": [
    {
      "cell_type": "markdown",
      "metadata": {
        "id": "view-in-github",
        "colab_type": "text"
      },
      "source": [
        "<a href=\"https://colab.research.google.com/github/Muskaurya005/Python/blob/main/Lecture_7(04_07_24).ipynb\" target=\"_parent\"><img src=\"https://colab.research.google.com/assets/colab-badge.svg\" alt=\"Open In Colab\"/></a>"
      ]
    },
    {
      "cell_type": "code",
      "execution_count": null,
      "metadata": {
        "colab": {
          "base_uri": "https://localhost:8080/"
        },
        "id": "qt0KwscufjR-",
        "outputId": "5dfc51a3-aa3d-4b2e-ca1c-25b0975f8cea"
      },
      "outputs": [
        {
          "output_type": "stream",
          "name": "stdout",
          "text": [
            "1 \n",
            "2 2 \n",
            "3 3 3 \n",
            "4 4 4 4 \n",
            "5 5 5 5 5 \n",
            "6 6 6 6 6 6 \n",
            "7 7 7 7 7 7 7 \n",
            "8 8 8 8 8 8 8 8 \n",
            "9 9 9 9 9 9 9 9 9 \n"
          ]
        }
      ],
      "source": [
        "\n",
        "p=1\n",
        "while p<10:\n",
        "   q=1\n",
        "   while q<=p:\n",
        "      print(p, end=\" \")\n",
        "      q+=1\n",
        "   p+=1\n",
        "   print(\"\")"
      ]
    },
    {
      "cell_type": "code",
      "source": [
        "for num in range(10):\n",
        " if num>5:\n",
        "     print(\"stop processing.\")\n",
        "     break\n",
        " print (num)"
      ],
      "metadata": {
        "colab": {
          "base_uri": "https://localhost:8080/"
        },
        "id": "yJy2DLf0kdI5",
        "outputId": "63714de3-bb89-4dd7-d914-bfc48f299d54"
      },
      "execution_count": null,
      "outputs": [
        {
          "output_type": "stream",
          "name": "stdout",
          "text": [
            "0\n",
            "1\n",
            "2\n",
            "3\n",
            "4\n",
            "5\n",
            "stop processing.\n"
          ]
        }
      ]
    },
    {
      "cell_type": "code",
      "source": [
        "#continue is used if we want to skip any value\n",
        "for num in range(10):\n",
        " if num%2!=0:\n",
        "    print(\"skip\")\n",
        "    continue\n",
        " print(num)"
      ],
      "metadata": {
        "colab": {
          "base_uri": "https://localhost:8080/"
        },
        "id": "a63UFemblHFg",
        "outputId": "f817d19d-d4e3-43f9-d3b1-5cb01d516c42"
      },
      "execution_count": null,
      "outputs": [
        {
          "output_type": "stream",
          "name": "stdout",
          "text": [
            "0\n",
            "skip\n",
            "2\n",
            "skip\n",
            "4\n",
            "skip\n",
            "6\n",
            "skip\n",
            "8\n",
            "skip\n"
          ]
        }
      ]
    },
    {
      "cell_type": "code",
      "source": [
        "#COUNTINUE STATEMENT\n",
        "for num in range(3,8):\n",
        " if num==5:\n",
        "   continue\n",
        " else:\n",
        "  print(num)"
      ],
      "metadata": {
        "colab": {
          "base_uri": "https://localhost:8080/"
        },
        "id": "ViAOUqYV0S-m",
        "outputId": "ea7651ee-876b-4be3-f34b-1ce50174a4e6"
      },
      "execution_count": null,
      "outputs": [
        {
          "output_type": "stream",
          "name": "stdout",
          "text": [
            "3\n",
            "4\n",
            "6\n",
            "7\n"
          ]
        }
      ]
    },
    {
      "cell_type": "code",
      "source": [
        "\n",
        "#BREAK STATEMENT\n",
        "for num in range(3,8):\n",
        " if num==5:\n",
        "   break\n",
        " else:\n",
        "  print(num)"
      ],
      "metadata": {
        "colab": {
          "base_uri": "https://localhost:8080/"
        },
        "id": "54HTlajB0zfw",
        "outputId": "0a9186c4-d99c-4acc-dfbe-b4f3146b7d28"
      },
      "execution_count": null,
      "outputs": [
        {
          "output_type": "stream",
          "name": "stdout",
          "text": [
            "3\n",
            "4\n"
          ]
        }
      ]
    },
    {
      "cell_type": "code",
      "source": [
        "\n",
        "#For if-else statement\n",
        "\n",
        "course=input(\"Enter course name: \")\n",
        "if course==\"BScIT\":\n",
        "   per=int(input(\"Enter your 12th percentage: \"))\n",
        "   sub=input(\"Enter  subject name: \")\n",
        "   if sub=='math' and per>=50:\n",
        "          print(\" Admission successful\")\n",
        "   else:\n",
        "         print(\"Admission not successful\")\n",
        "else:\n",
        "     print(\"Enter suitable course\")"
      ],
      "metadata": {
        "colab": {
          "base_uri": "https://localhost:8080/"
        },
        "id": "TEtvnZQGoHnr",
        "outputId": "7e795fdc-8aea-4557-ecf4-fcc77404a21a"
      },
      "execution_count": null,
      "outputs": [
        {
          "output_type": "stream",
          "name": "stdout",
          "text": [
            "Enter course name: BScIT\n",
            "Enter your 12th percentage: 67\n",
            "Enter  subject name: math\n",
            " Admission successful\n"
          ]
        }
      ]
    },
    {
      "cell_type": "code",
      "source": [
        "#FUNCTION STATEMENT\n",
        "def Test():\n",
        "    print(\"Good morning!!\")\n",
        "\n",
        "Test()"
      ],
      "metadata": {
        "colab": {
          "base_uri": "https://localhost:8080/"
        },
        "id": "uePpAFSgvqX2",
        "outputId": "443de5bb-dddd-4224-dee9-75ba600452b5"
      },
      "execution_count": null,
      "outputs": [
        {
          "output_type": "stream",
          "name": "stdout",
          "text": [
            "Good morning!!\n"
          ]
        }
      ]
    },
    {
      "cell_type": "code",
      "source": [
        "def add(a,b):\n",
        "    print(a+b)\n",
        "\n",
        "add(10,20)"
      ],
      "metadata": {
        "colab": {
          "base_uri": "https://localhost:8080/"
        },
        "id": "HpbCekbHwiYr",
        "outputId": "2f3587f4-059c-434f-c541-39a09b456df7"
      },
      "execution_count": null,
      "outputs": [
        {
          "output_type": "stream",
          "name": "stdout",
          "text": [
            "30\n"
          ]
        }
      ]
    },
    {
      "cell_type": "code",
      "source": [
        "def print_num(a):\n",
        "    for num in range(a) :\n",
        "        print(num)\n",
        "\n",
        "print_num(13)"
      ],
      "metadata": {
        "colab": {
          "base_uri": "https://localhost:8080/"
        },
        "id": "0KUCunGFxm5M",
        "outputId": "0eebe0fa-85a0-4b37-cef2-006f87869be4"
      },
      "execution_count": null,
      "outputs": [
        {
          "output_type": "stream",
          "name": "stdout",
          "text": [
            "0\n",
            "1\n",
            "2\n",
            "3\n",
            "4\n",
            "5\n",
            "6\n",
            "7\n",
            "8\n",
            "9\n",
            "10\n",
            "11\n",
            "12\n"
          ]
        }
      ]
    },
    {
      "cell_type": "code",
      "source": [
        "def Admission():\n",
        " course=input(\"Enter course name: \")\n",
        " if course==\"BScIT\":\n",
        "   per=int(input(\"Enter your 12th percentage: \"))\n",
        "   sub=input(\"Enter  subject name: \")\n",
        "   if sub=='math' and per>=50:\n",
        "          print(\" Admission successful! \")\n",
        "   else:\n",
        "         print(\"Admission not successful\")\n",
        " else:\n",
        "     print(\"Enter suitable course\")\n",
        "\n",
        "\n",
        "Admission()"
      ],
      "metadata": {
        "colab": {
          "base_uri": "https://localhost:8080/"
        },
        "id": "LUSKc0VJytnh",
        "outputId": "eaad65c8-8bee-4a72-a803-155012e169a6"
      },
      "execution_count": null,
      "outputs": [
        {
          "output_type": "stream",
          "name": "stdout",
          "text": [
            "Enter course name: BScIT\n",
            "Enter your 12th percentage: 67\n",
            "Enter  subject name: math\n",
            " Admission successful! \n"
          ]
        }
      ]
    }
  ]
}